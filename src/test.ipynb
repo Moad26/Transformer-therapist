{
 "cells": [
  {
   "cell_type": "code",
   "execution_count": 8,
   "id": "5730bf07",
   "metadata": {},
   "outputs": [],
   "source": [
    "import pandas as pd\n",
    "from pathlib import Path\n",
    "\n",
    "ROOT_DIR = Path().resolve().parent\n",
    "DATA_DIR = ROOT_DIR / \"input\" / \"empatheticdialogues\"\n",
    "file_path = DATA_DIR / \"train.csv\"\n"
   ]
  },
  {
   "cell_type": "code",
   "execution_count": 10,
   "id": "eb48a392",
   "metadata": {},
   "outputs": [],
   "source": [
    "\n",
    "if not file_path.exists():\n",
    "    raise FileNotFoundError(f\"Data file not found: {file_path}\")\n",
    "df = pd.read_csv(file_path, on_bad_lines='skip')\n",
    "df = df.sort_values([\"conv_id\", \"utterance_idx\"]).reset_index(drop=True)"
   ]
  },
  {
   "cell_type": "code",
   "execution_count": 12,
   "id": "bf0ab333",
   "metadata": {},
   "outputs": [],
   "source": [
    "df[\"utterance\"] = df[\"utterance\"].str.replace(\"_comma_\", \",\")\n",
    "convs = list()\n",
    "for conv_id in df[\"conv_id\"].unique().tolist():\n",
    "    df_conv = df[df[\"conv_id\"] == conv_id]\n",
    "    convs.append(df_conv[\"utterance\"].tolist())\n",
    "\n",
    "patient = []\n",
    "therapist = []\n",
    "\n",
    "for conv in convs:\n",
    "    if len(conv) == 1:\n",
    "        continue\n",
    "    if len(conv) % 2 == 1:\n",
    "        conv.pop()\n",
    "    patient += conv[0::2]\n",
    "    therapist += conv[1::2]\n"
   ]
  },
  {
   "cell_type": "code",
   "execution_count": 14,
   "id": "632900f9",
   "metadata": {},
   "outputs": [
    {
     "data": {
      "text/plain": [
       "['Was this a friend you were in love with, or just a best friend?',\n",
       " 'Where has she gone?',\n",
       " 'Oh was this something that happened because of an argument?',\n",
       " 'Do you like toads?',\n",
       " 'That was nice of your girlfriend, do you love her?']"
      ]
     },
     "execution_count": 14,
     "metadata": {},
     "output_type": "execute_result"
    }
   ],
   "source": [
    "therapist[:5]"
   ]
  }
 ],
 "metadata": {
  "kernelspec": {
   "display_name": ".venv",
   "language": "python",
   "name": "python3"
  },
  "language_info": {
   "codemirror_mode": {
    "name": "ipython",
    "version": 3
   },
   "file_extension": ".py",
   "mimetype": "text/x-python",
   "name": "python",
   "nbconvert_exporter": "python",
   "pygments_lexer": "ipython3",
   "version": "3.9.16"
  }
 },
 "nbformat": 4,
 "nbformat_minor": 5
}
